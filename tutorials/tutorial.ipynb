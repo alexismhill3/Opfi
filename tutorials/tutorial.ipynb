{
 "cells": [
  {
   "cell_type": "markdown",
   "source": [
    "## Example 1: Finding CRISPR-Cas systems in a cyanobacteria genome"
   ],
   "metadata": {}
  },
  {
   "cell_type": "markdown",
   "source": [
    "In this example, we will annotate and visualize CRISPR-Cas systems in the cyanobacteria species Rippkaea orientalis. CRISPR-Cas is a widespread bacterial defense system, found in at least 50% of all known prokaryotic species. This system is significant in that it can be leveraged as a precision gene editing tool, an advancement that was awarded the 2020 Nobel Prize in Chemistry. The genome of R. orientalis harbors two complete CRISPR-Cas loci (one chromosomal, and one extrachromosomal/plasmid).\n",
    "\n",
    "You can download the complete assembled genome [here](https://www.ncbi.nlm.nih.gov/assembly/GCF_000024045.1/); it is also available at https://github.com/wilkelab/Opfi in the `tutorials` folder (`tutorials/GCF_000024045.1_ASM2404v1_genomic.fna.gz`). This tutorial assumes the user has already installed Opfi and all dependencies (if installing with conda, this is done automatically). Some familiarity with BLAST and the basic homology search algorithm may also be helpful, but is not required. \n",
    "\n",
    "**Note:** \n",
    "This tutorial uses several input data files, all of which are provided in the `tutorials` directory. If running this notebook in another working directory, be sure copy over all three data files as well."
   ],
   "metadata": {}
  },
  {
   "cell_type": "markdown",
   "source": [
    "**1. Use the makeblastdb utility to convert a Cas protein database to BLAST format**  \n",
    "We start by converting a Cas sequence database to a format that BLAST can recognize, using the command line utility `makeblastdb`, which is part of the core NCBI BLAST+ distribution. A set of ~20,000 non-redundant Cas sequences, downloaded from [Uniprot](https://www.uniprot.org/uniref/) is available as a tar archive (`tutorials/cas_database.tar.gz`). We'll make a new directory, \"blastdb\", and extract sequences there:"
   ],
   "metadata": {}
  },
  {
   "cell_type": "code",
   "execution_count": null,
   "source": [
    "! mkdir blastdb\n",
    "! cd blastdb && tar -xzf ../cas_database.tar.gz && cd .."
   ],
   "outputs": [],
   "metadata": {}
  },
  {
   "cell_type": "markdown",
   "source": [
    "Next, create two BLAST databases for the sequence data: one containing Cas1 sequences only, and another that contains the remaining Cas sequences."
   ],
   "metadata": {}
  },
  {
   "cell_type": "code",
   "execution_count": null,
   "source": [
    "! cd blastdb && cat cas1.fasta | makeblastdb -dbtype prot -title cas1 -hash_index -out cas1_db && cd ..\n",
    "! cd blastdb && cat cas[2-9].fasta cas1[0-2].fasta casphi.fasta | makeblastdb -dbtype prot -title cas_all -hash_index -out cas_all_but_1_db"
   ],
   "outputs": [],
   "metadata": {}
  },
  {
   "cell_type": "markdown",
   "source": [
    "`-dbtype prot` simply tells `makeblastdb` to expect amino acid sequences. We use `-title` and `-out` to name the database (required by BLAST) and to prefix the database files, respectively. `-hash_index` directs `makeblastdb` to generate a hash index of protein sequences, which can speed up computation time."
   ],
   "metadata": {}
  },
  {
   "cell_type": "markdown",
   "source": [
    "**2. Use Opfi's Gene Finder module to search for CRISPR-Cas loci**"
   ],
   "metadata": {}
  },
  {
   "cell_type": "markdown",
   "source": [
    "CRISPR-Cas systems are extremely diverse. The most recent [classification effort](https://www.nature.com/articles/s41579-019-0299-x) identifies 6 major types, and over 40 subtypes, of compositionally destinct systems. Although there is sufficent sequence similarity between subtypes to infer the existence of a common ancestor, the only protein family present in the majority of CRISPR-cas subtypes is the conserved endonuclease Cas1. For our search, we will define candidate CRISPR-cas loci as having, minimally, a cas1 gene."
   ],
   "metadata": {}
  },
  {
   "cell_type": "markdown",
   "source": [
    "First, create another directory for output:"
   ],
   "metadata": {}
  },
  {
   "cell_type": "code",
   "execution_count": null,
   "source": [
    "! mkdir example_1_output"
   ],
   "outputs": [],
   "metadata": {}
  },
  {
   "cell_type": "markdown",
   "source": [
    "The following bit of code uses Opfi's Gene Finder module to search for CRISPR-Cas systems:"
   ],
   "metadata": {}
  },
  {
   "cell_type": "code",
   "execution_count": null,
   "source": [
    "from gene_finder.pipeline import Pipeline\n",
    "import os\n",
    "\n",
    "genomic_data = \"GCF_000024045.1_ASM2404v1_genomic.fna.gz\"\n",
    "output_directory = \"example_1_output\"\n",
    "\n",
    "p = Pipeline()\n",
    "p.add_seed_step(db=\"blastdb/cas1_db\", name=\"cas1\", e_val=0.001, blast_type=\"PROT\", num_threads=1)\n",
    "p.add_filter_step(db=\"blastdb/cas_all_but_1_db\", name=\"cas_all\", e_val=0.001, blast_type=\"PROT\", num_threads=1)\n",
    "p.add_crispr_step()\n",
    "\n",
    "# use the input filename as the job id\n",
    "# results will be written to the file <job id>_results.csv\n",
    "job_id = os.path.basename(genomic_data)\n",
    "results = p.run(job_id=job_id, data=genomic_data, output_directory=output_directory, min_prot_len=90, span=10000, gzip=True)"
   ],
   "outputs": [],
   "metadata": {}
  },
  {
   "cell_type": "markdown",
   "source": [
    "First, we initialize a `Pipeline` object, which keeps track of all search parameters, as well as a running list of systems that meet search criteria. Next, we add three search steps to the pipeline:\n",
    "\n",
    "1. `add_seed_step`: BLAST is used to search the input genome against a database of Cas1 sequences. Regions around putative Cas1 hits become the intial candidates, and the rest of the genome is ignored.\n",
    "2. `add_filter_step`: Candidate regions are searched for any additional Cas genes. Candidates without at least one additional putative Cas gene are also discarded.\n",
    "3. `add_crispr_step`: Remaining candidates are annotated for CRISPR repeat sequences using PILER-CR. \n",
    "\n",
    "Finally, we run the pipeline, executing steps in the order they we added. `min_prot_len` sets the minimum length (in amino acid residues) of hits to keep (really short hits are unlikely real protein encoding genes). `span` is the region directly up- and downstream of initial hits. So, each candidate system will be about 20 kbp in length. Results are written to a single CSV file. Final candidate loci contain at least one putative Cas1 gene and one additional Cas gene. As we will see, this relatively permissive criteria captures some non-CRISPR-Cas loci. Opfi has additional modules for reducing unlikely systems after the gene finding stage."
   ],
   "metadata": {}
  },
  {
   "cell_type": "markdown",
   "source": [
    "**3. Visualize annotated CRISPR-Cas gene clusters using Opfi's Operon Analyzer module**"
   ],
   "metadata": {}
  },
  {
   "cell_type": "markdown",
   "source": [
    "It is sometimes useful to visualize candidate systems, especially during the exploratory phase of a genomics survey. Opfi provides a few functions for visualizing candidate systems as gene diagrams. We'll use these to visualize the CRISPR-Cas gene clusters in R. orientalis:"
   ],
   "metadata": {}
  },
  {
   "cell_type": "code",
   "execution_count": null,
   "source": [
    "import csv\n",
    "import sys\n",
    "from operon_analyzer import load, visualize\n",
    "\n",
    "feature_colors = { \"cas1\": \"lightblue\",\n",
    "                    \"cas2\": \"seagreen\",\n",
    "                    \"cas3\": \"gold\",\n",
    "                    \"cas4\": \"springgreen\",\n",
    "                    \"cas5\": \"darkred\",\n",
    "                    \"cas6\": \"thistle\",\n",
    "                    \"cas7\": \"coral\",\n",
    "                    \"cas8\": \"red\",\n",
    "                    \"cas9\": \"palegreen\",\n",
    "                    \"cas10\": \"yellow\",\n",
    "                    \"cas11\": \"tan\",\n",
    "                    \"cas12\": \"orange\",\n",
    "                    \"cas13\": \"saddlebrown\",\n",
    "                    \"casphi\": \"olive\",\n",
    "                    \"CRISPR array\": \"purple\"\n",
    "                    }\n",
    "\n",
    "# read in the output from Gene Finder and create a gene diagram for each cluster (operon)\n",
    "with open(\"example_1_output/GCF_000024045.1_ASM2404v1_genomic.fna.gz_results.csv\", \"r\") as operon_data:\n",
    "    operons = load.load_operons(operon_data)\n",
    "    visualize.plot_operons(operons=operons, output_directory=\"example_1_output\", feature_colors=feature_colors, nucl_per_line=25000)"
   ],
   "outputs": [],
   "metadata": {}
  },
  {
   "cell_type": "markdown",
   "source": [
    "Looking at the gene diagrams, it is clear that we identified both CRISPR-Cas systems in this genome. We also see some systems that don't resemble functional CRISPR-Cas operons. Because we used a relatively permissive e-value threshhold of 0.001 when running BLAST, Opfi retained regions with very low sequence similarity to true CRISPR-Cas genes. In fact, these regions are likely not CRISPR-Cas loci at all. Using a lower e-value would likely eliminate these \"false positive\" systems, but Opfi also has additional functions for filtering out unlikely candidates _after_ the intial BLAST search. \n",
    "\n",
    "In general, we have found that using permissive BLAST parameters intially, and then filtering or eliminating candidates during the downstream analysis, is an effective way to search for gene clusters in large amounts of genomic/metagenomic data. In this toy example, we could re-run BLAST many times without significant cost. But on a more realistic dataset, needing to re-do the computationally expensive homology search could detrail a project. Since the optimal search parameters may not be known _a priori_, it can be better to do a permissive homology search initially, and then narrow down results later."
   ],
   "metadata": {}
  },
  {
   "cell_type": "markdown",
   "source": [
    "Finally, clean up the temporary directories, if desired:"
   ],
   "metadata": {}
  },
  {
   "cell_type": "code",
   "execution_count": null,
   "source": [
    "! rm -r example_1_output blastdb"
   ],
   "outputs": [],
   "metadata": {}
  },
  {
   "cell_type": "markdown",
   "source": [
    "## Example 2: Filter and classify CRISPR-Cas systems based on genomic composition"
   ],
   "metadata": {}
  },
  {
   "cell_type": "markdown",
   "source": [
    "As mentioned in the previous example, known CRISPR-Cas systems fall into 6 broad categories, based on the presence of particular \"signature\" genes, as well as overall composition and genomic architecture. In this example, we will use Opfi to search for and classify CRISPR-Cas systems in ~300 strains of fusobacteria. \n",
    "\n",
    "This dataset was chosen because it is more representative (in magnitude) of what would be encountered in a real genomics study. Additionally, the fusobacteria phylum contains a variety of CRISPR-Cas subtypes. Given that the homology search portion of the analysis takes several hours (using a single core) to complete, we have pre-run Gene Finder using the same setup as the previous example. "
   ],
   "metadata": {}
  },
  {
   "cell_type": "markdown",
   "source": [
    "**1. Make another temporary directory for output:**"
   ],
   "metadata": {}
  },
  {
   "cell_type": "code",
   "execution_count": null,
   "source": [
    "! mkdir example_2_output"
   ],
   "outputs": [],
   "metadata": {}
  },
  {
   "cell_type": "markdown",
   "source": [
    "**2. Filter Gene Finder output and extract high-confidence CRISPR-Cas systems**"
   ],
   "metadata": {}
  },
  {
   "cell_type": "markdown",
   "source": [
    "The following code reads in unfiltered Gene Finder output and applies a set of conditions (\"rules\") to accomplish two things:\n",
    "1. Select (and bin) systems according to type, and,\n",
    "2. Eliminate candidates that likely do not represent true CRISPR-Cas systems"
   ],
   "metadata": {}
  },
  {
   "cell_type": "code",
   "execution_count": null,
   "source": [
    "from operon_analyzer import analyze, rules\n",
    "\n",
    "\n",
    "fs = rules.FilterSet().pick_overlapping_features_by_bit_score(0.9)\n",
    "cas_types = [\"I\", \"II\", \"III\", \"V\"]\n",
    "\n",
    "rulesets = []\n",
    "# type I rules\n",
    "rulesets.append(rules.RuleSet().contains_group(feature_names = [\"cas5\", \"cas7\"], max_gap_distance_bp = 1000, require_same_orientation = True) \\\n",
    "                               .require(\"cas3\"))\n",
    "# type II rules\n",
    "rulesets.append(rules.RuleSet().contains_at_least_n_features(feature_names = [\"cas1\", \"cas2\", \"cas9\"], feature_count = 3) \\\n",
    "                               .minimum_size(\"cas9\", 3000))\n",
    "# type III rules\n",
    "rulesets.append(rules.RuleSet().contains_group(feature_names = [\"cas5\", \"cas7\"], max_gap_distance_bp = 1000, require_same_orientation = True) \\\n",
    "                               .require(\"cas10\"))\n",
    "# type V rules\n",
    "rulesets.append(rules.RuleSet().contains_at_least_n_features(feature_names = [\"cas1\", \"cas2\", \"cas12\"], feature_count = 3))\n",
    "\n",
    "for rs, cas_type in zip(rulesets, cas_types):\n",
    "    with open(\"refseq_fusobacteria.csv\", \"r\") as input_csv:\n",
    "        with open(f\"example_2_output/refseq_fuso_filtered_type{cas_type}.csv\", \"w\") as output_csv:\n",
    "            analyze.evaluate_rules_and_reserialize(input_csv, rs, fs, output_csv)"
   ],
   "outputs": [],
   "metadata": {
    "tags": []
   }
  },
  {
   "cell_type": "markdown",
   "source": [
    "The rule sets are informed by an established CRISPR-Cas classification system, which you can read more about [here](https://www.nature.com/articles/s41579-019-0299-x). The most recent system recognizes 6 major CRISPR-Cas types, but since fusobacteria doesn't contain type IV or VI systems that can be identified with our protein dataset, we didn't define the corresponding rule sets."
   ],
   "metadata": {}
  },
  {
   "cell_type": "markdown",
   "source": [
    "**3. Verify results with additional visualizations**"
   ],
   "metadata": {}
  },
  {
   "cell_type": "markdown",
   "source": [
    "Altogther, this analysis will identify several hundred systems. We won't look at each system individually (but you are free to do so!). For the sake of confirming that the code ran as expected, we'll create gene diagrams for just the type V systems, since there are only two:"
   ],
   "metadata": {}
  },
  {
   "cell_type": "code",
   "execution_count": null,
   "source": [
    "import csv\n",
    "import sys\n",
    "from operon_analyzer import load, visualize\n",
    "\n",
    "feature_colors = { \"cas1\": \"lightblue\",\n",
    "                    \"cas2\": \"seagreen\",\n",
    "                    \"cas3\": \"gold\",\n",
    "                    \"cas4\": \"springgreen\",\n",
    "                    \"cas5\": \"darkred\",\n",
    "                    \"cas6\": \"thistle\",\n",
    "                    \"cas7\": \"coral\",\n",
    "                    \"cas8\": \"red\",\n",
    "                    \"cas9\": \"palegreen\",\n",
    "                    \"cas10\": \"yellow\",\n",
    "                    \"cas11\": \"tan\",\n",
    "                    \"cas12\": \"orange\",\n",
    "                    \"cas13\": \"saddlebrown\",\n",
    "                    \"casphi\": \"olive\",\n",
    "                    \"CRISPR array\": \"purple\"\n",
    "                    }\n",
    "\n",
    "# read in the output from Gene Finder and create a gene diagram for each cluster (operon)\n",
    "with open(\"example_2_output/refseq_fuso_filtered_typeV.csv\", \"r\") as operon_data:\n",
    "    operons = load.load_operons(operon_data)\n",
    "    visualize.plot_operons(operons=operons, output_directory=\"example_2_output\", feature_colors=feature_colors, nucl_per_line=25000)"
   ],
   "outputs": [],
   "metadata": {}
  },
  {
   "cell_type": "markdown",
   "source": [
    "Finally, clean up the temporary output directory, if desired:"
   ],
   "metadata": {}
  },
  {
   "cell_type": "code",
   "execution_count": null,
   "source": [
    "! rm -r example_2_output"
   ],
   "outputs": [],
   "metadata": {}
  }
 ],
 "metadata": {
  "kernelspec": {
   "display_name": "Python 3",
   "language": "python",
   "name": "python3"
  },
  "language_info": {
   "codemirror_mode": {
    "name": "ipython",
    "version": 3
   },
   "file_extension": ".py",
   "mimetype": "text/x-python",
   "name": "python",
   "nbconvert_exporter": "python",
   "pygments_lexer": "ipython3",
   "version": "3.7.10"
  }
 },
 "nbformat": 4,
 "nbformat_minor": 5
}