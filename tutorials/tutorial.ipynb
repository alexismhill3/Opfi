{
 "cells": [
  {
   "cell_type": "markdown",
   "id": "883c0210-7ca3-469c-b82f-1615e3936cc5",
   "metadata": {},
   "source": [
    "## Example 1: Finding CRISPR-cas gene clusters in a cyanobacteria genome"
   ]
  },
  {
   "cell_type": "markdown",
   "id": "44317c13-40c9-4a4e-ae68-586a440cc486",
   "metadata": {},
   "source": [
    "In this example, we will annotate and visualize CRISPR-cas gene clusters in the cyanobacteria species Rippkaea orientalis. CRISPR-cas is a widespread bacterial defense system, found in over 50% of all known prokaryotic species. Notably, it has been repurposed as an efficient gene editing tool that has become ubiquitous in molecular biology workflows. R. orientalis was selected because it's genome contains two complete CRISPR-cas loci (one chromosomal, and one extrachromosomal/plasmid).\n",
    "\n",
    "You can download the complete assembled genome [here](https://www.ncbi.nlm.nih.gov/assembly/GCF_000024045.1/); it is also available at https://github.com/alexismhill3/Opfi in the `tutorials` folder (`data/GCF_000024045.1_ASM2404v1_genomic.fna.gz`). This tutorial assumes that the user has already cloned and built Opfi, installed NCBI BLAST+ **and** PILER-CR ([ZZZ link to the docs page about Ofpi installation]), and is using `tutorials` as the working directory. Some familiarity with BLAST and the basic homology search algorithm may also be helpful, but is not required. "
   ]
  },
  {
   "cell_type": "markdown",
   "id": "c9cbec4a-5afc-4f14-89f4-08d622daa181",
   "metadata": {},
   "source": [
    "**1. Use the makeblastdb utility to convert a cas protein database to BLAST format**  \n",
    "We start by converting our cas sequence database to a format that BLAST can recognize. We can use the command line utility `makeblastdb`, which is provided as part of the NCBI BLAST+ distribution. A set of ~20,000 non-redundant cas sequences, downloaded from [Uniprot](https://www.uniprot.org/uniref/) is available as a tar archive (`tutorials/data/cas_database.tar.gz`). We'll make a new directory, \"blastdb\", and extract sequences there:"
   ]
  },
  {
   "cell_type": "code",
   "execution_count": 37,
   "id": "7dfbf04c-d444-4409-89dd-43b309d77cde",
   "metadata": {},
   "outputs": [],
   "source": [
    "! mkdir blastdb\n",
    "! cd blastdb && tar -xzf ../data/cas_database.tar.gz && cd .."
   ]
  },
  {
   "cell_type": "markdown",
   "id": "a54ae8d1-ece2-4b4f-8a43-31c5f79663f6",
   "metadata": {},
   "source": [
    "Next, we'll create two BLAST databases with the sequence data: one containing cas1 sequences only, and another that contains the remaining cas sequences."
   ]
  },
  {
   "cell_type": "code",
   "execution_count": 22,
   "id": "acfb1393-d7dd-4b9f-98d7-e3dc4d59220b",
   "metadata": {},
   "outputs": [
    {
     "name": "stdout",
     "output_type": "stream",
     "text": [
      "\n",
      "\n",
      "Building a new DB, current time: 05/26/2021 13:42:55\n",
      "New DB name:   /home/alexis/projects/Opfi/tutorials/blastdb/cas1_db\n",
      "New DB title:  cas1\n",
      "Sequence type: Protein\n",
      "Keep MBits: T\n",
      "Maximum file size: 1000000000B\n",
      "Adding sequences from FASTA; added 2156 sequences in 0.0846369 seconds.\n",
      "\n",
      "\n",
      "Building a new DB, current time: 05/26/2021 13:42:55\n",
      "New DB name:   /home/alexis/projects/Opfi/tutorials/blastdb/cas_all_but_1_db\n",
      "New DB title:  cas_all\n",
      "Sequence type: Protein\n",
      "Keep MBits: T\n",
      "Maximum file size: 1000000000B\n",
      "Adding sequences from FASTA; added 20561 sequences in 0.757788 seconds.\n"
     ]
    }
   ],
   "source": [
    "! cd blastdb && cat cas1.fasta | makeblastdb -dbtype prot -title cas1 -hash_index -out cas1_db && cd ..\n",
    "! cd blastdb && cat cas[2-9].fasta cas1[0-2].fasta casphi.fasta | makeblastdb -dbtype prot -title cas_all -hash_index -out cas_all_but_1_db"
   ]
  },
  {
   "cell_type": "markdown",
   "id": "5cf62ce8-e44e-4636-900c-c3cadb2251e4",
   "metadata": {},
   "source": [
    "`-dbtype prot` simply tells `makeblastdb` to expect amino acid sequences. We use `-title` and `-out` to name the database (required by BLAST) and to prefix the database files, respectively. `-hash_index` directs `makeblastdb` to generate a hash index of protein sequences, which can speed up computation time."
   ]
  },
  {
   "cell_type": "markdown",
   "id": "fe6ad1cc-b43a-4a7d-844a-74a1eab92e6d",
   "metadata": {},
   "source": [
    "**2. Use Opfi's Gene Finder module to search for CRISPR-cas loci**"
   ]
  },
  {
   "cell_type": "markdown",
   "id": "ffd8dc35-d5e7-48f5-988d-e8fb7d7273bd",
   "metadata": {},
   "source": [
    "CRISPR-cas systems are quite diverse, with Cas1 (an endonuclease) being the only protein family common to the vast majority of CRISPR systems. We will use cas1 to define candidate CRISPR-cas loci in the R. orientalis genome, and then search for additional CRISPR-cas features in the vicinity of putative cas1 genes."
   ]
  },
  {
   "cell_type": "markdown",
   "id": "ebe684a3-3fc4-41a8-a985-6089ce124439",
   "metadata": {},
   "source": [
    "First, create another directory for output:"
   ]
  },
  {
   "cell_type": "code",
   "execution_count": 66,
   "id": "f6c9f373-7904-431a-874a-c9a1196b736e",
   "metadata": {},
   "outputs": [],
   "source": [
    "! mkdir example_1_output"
   ]
  },
  {
   "cell_type": "markdown",
   "id": "9ad06c17-0dde-414d-8aea-6522ae7d6adc",
   "metadata": {},
   "source": [
    "The following bit of code uses Opfi's Gene Finder module to search for CRISPR-cas systems:"
   ]
  },
  {
   "cell_type": "code",
   "execution_count": 1,
   "id": "43ddd969-618c-4146-b49a-da61abfb8f0a",
   "metadata": {},
   "outputs": [
    {
     "ename": "FileNotFoundError",
     "evalue": "[Errno 2] No such file or directory: 'blastp'",
     "output_type": "error",
     "traceback": [
      "\u001b[0;31m---------------------------------------------------------------------------\u001b[0m",
      "\u001b[0;31mFileNotFoundError\u001b[0m                         Traceback (most recent call last)",
      "\u001b[0;32m<ipython-input-1-f799fdb77819>\u001b[0m in \u001b[0;36m<module>\u001b[0;34m\u001b[0m\n\u001b[1;32m     13\u001b[0m \u001b[0;31m# results will be written to the file <job id>_results.csv\u001b[0m\u001b[0;34m\u001b[0m\u001b[0;34m\u001b[0m\u001b[0;34m\u001b[0m\u001b[0m\n\u001b[1;32m     14\u001b[0m \u001b[0mjob_id\u001b[0m \u001b[0;34m=\u001b[0m \u001b[0mos\u001b[0m\u001b[0;34m.\u001b[0m\u001b[0mpath\u001b[0m\u001b[0;34m.\u001b[0m\u001b[0mbasename\u001b[0m\u001b[0;34m(\u001b[0m\u001b[0mgenomic_data\u001b[0m\u001b[0;34m)\u001b[0m\u001b[0;34m\u001b[0m\u001b[0;34m\u001b[0m\u001b[0m\n\u001b[0;32m---> 15\u001b[0;31m \u001b[0mresults\u001b[0m \u001b[0;34m=\u001b[0m \u001b[0mp\u001b[0m\u001b[0;34m.\u001b[0m\u001b[0mrun\u001b[0m\u001b[0;34m(\u001b[0m\u001b[0mjob_id\u001b[0m\u001b[0;34m=\u001b[0m\u001b[0mjob_id\u001b[0m\u001b[0;34m,\u001b[0m \u001b[0mdata\u001b[0m\u001b[0;34m=\u001b[0m\u001b[0mgenomic_data\u001b[0m\u001b[0;34m,\u001b[0m \u001b[0moutput_directory\u001b[0m\u001b[0;34m=\u001b[0m\u001b[0moutput_directory\u001b[0m\u001b[0;34m,\u001b[0m \u001b[0mmin_prot_len\u001b[0m\u001b[0;34m=\u001b[0m\u001b[0;36m90\u001b[0m\u001b[0;34m,\u001b[0m \u001b[0mspan\u001b[0m\u001b[0;34m=\u001b[0m\u001b[0;36m10000\u001b[0m\u001b[0;34m,\u001b[0m \u001b[0mgzip\u001b[0m\u001b[0;34m=\u001b[0m\u001b[0;32mTrue\u001b[0m\u001b[0;34m)\u001b[0m\u001b[0;34m\u001b[0m\u001b[0;34m\u001b[0m\u001b[0m\n\u001b[0m",
      "\u001b[0;32m~/projects/Opfi/src/gene_finder/pipeline.py\u001b[0m in \u001b[0;36mrun\u001b[0;34m(self, data, job_id, output_directory, min_prot_len, span, record_all_hits, incremental_output, starting_contig, gzip)\u001b[0m\n\u001b[1;32m    641\u001b[0m                 \u001b[0;32mif\u001b[0m \u001b[0misinstance\u001b[0m\u001b[0;34m(\u001b[0m\u001b[0mstep\u001b[0m\u001b[0;34m,\u001b[0m \u001b[0mSeedStep\u001b[0m\u001b[0;34m)\u001b[0m\u001b[0;34m:\u001b[0m\u001b[0;34m\u001b[0m\u001b[0;34m\u001b[0m\u001b[0m\n\u001b[1;32m    642\u001b[0m                     \u001b[0;31m#print(\"Begin seed step: {}\".format(step.name))\u001b[0m\u001b[0;34m\u001b[0m\u001b[0;34m\u001b[0m\u001b[0;34m\u001b[0m\u001b[0m\n\u001b[0;32m--> 643\u001b[0;31m                     \u001b[0mstep\u001b[0m\u001b[0;34m.\u001b[0m\u001b[0mexecute\u001b[0m\u001b[0;34m(\u001b[0m\u001b[0mself\u001b[0m\u001b[0;34m.\u001b[0m\u001b[0m_all_orfs\u001b[0m\u001b[0;34m,\u001b[0m \u001b[0mself\u001b[0m\u001b[0;34m.\u001b[0m\u001b[0mspan\u001b[0m\u001b[0;34m,\u001b[0m \u001b[0mcontig_len\u001b[0m\u001b[0;34m)\u001b[0m\u001b[0;34m\u001b[0m\u001b[0;34m\u001b[0m\u001b[0m\n\u001b[0m\u001b[1;32m    644\u001b[0m                     self._get_orfs_in_neighborhood(step.neighborhood_ranges, \n\u001b[1;32m    645\u001b[0m                                                     \u001b[0mcontig_path\u001b[0m\u001b[0;34m,\u001b[0m\u001b[0;34m\u001b[0m\u001b[0;34m\u001b[0m\u001b[0m\n",
      "\u001b[0;32m~/projects/Opfi/src/gene_finder/steps.py\u001b[0m in \u001b[0;36mexecute\u001b[0;34m(self, orfs, span, contig_len)\u001b[0m\n\u001b[1;32m    237\u001b[0m     \u001b[0;32mdef\u001b[0m \u001b[0mexecute\u001b[0m\u001b[0;34m(\u001b[0m\u001b[0mself\u001b[0m\u001b[0;34m,\u001b[0m \u001b[0morfs\u001b[0m\u001b[0;34m,\u001b[0m \u001b[0mspan\u001b[0m\u001b[0;34m,\u001b[0m \u001b[0mcontig_len\u001b[0m\u001b[0;34m)\u001b[0m\u001b[0;34m:\u001b[0m\u001b[0;34m\u001b[0m\u001b[0;34m\u001b[0m\u001b[0m\n\u001b[1;32m    238\u001b[0m \u001b[0;34m\u001b[0m\u001b[0m\n\u001b[0;32m--> 239\u001b[0;31m         \u001b[0msuper\u001b[0m\u001b[0;34m(\u001b[0m\u001b[0;34m)\u001b[0m\u001b[0;34m.\u001b[0m\u001b[0mexecute\u001b[0m\u001b[0;34m(\u001b[0m\u001b[0morfs\u001b[0m\u001b[0;34m)\u001b[0m\u001b[0;34m\u001b[0m\u001b[0;34m\u001b[0m\u001b[0m\n\u001b[0m\u001b[1;32m    240\u001b[0m \u001b[0;34m\u001b[0m\u001b[0m\n\u001b[1;32m    241\u001b[0m         \u001b[0;32mif\u001b[0m \u001b[0mlen\u001b[0m\u001b[0;34m(\u001b[0m\u001b[0mself\u001b[0m\u001b[0;34m.\u001b[0m\u001b[0mhits\u001b[0m\u001b[0;34m)\u001b[0m \u001b[0;34m!=\u001b[0m \u001b[0;36m0\u001b[0m\u001b[0;34m:\u001b[0m\u001b[0;34m\u001b[0m\u001b[0;34m\u001b[0m\u001b[0m\n",
      "\u001b[0;32m~/projects/Opfi/src/gene_finder/steps.py\u001b[0m in \u001b[0;36mexecute\u001b[0;34m(self, orfs)\u001b[0m\n\u001b[1;32m    227\u001b[0m \u001b[0;34m\u001b[0m\u001b[0m\n\u001b[1;32m    228\u001b[0m         \u001b[0mself\u001b[0m\u001b[0;34m.\u001b[0m\u001b[0morfs\u001b[0m \u001b[0;34m=\u001b[0m \u001b[0morfs\u001b[0m\u001b[0;34m\u001b[0m\u001b[0;34m\u001b[0m\u001b[0m\n\u001b[0;32m--> 229\u001b[0;31m         \u001b[0mself\u001b[0m\u001b[0;34m.\u001b[0m\u001b[0mhits\u001b[0m \u001b[0;34m=\u001b[0m \u001b[0mself\u001b[0m\u001b[0;34m.\u001b[0m\u001b[0msearch_tool\u001b[0m\u001b[0;34m.\u001b[0m\u001b[0mrun\u001b[0m\u001b[0;34m(\u001b[0m\u001b[0morfs\u001b[0m\u001b[0;34m)\u001b[0m\u001b[0;34m\u001b[0m\u001b[0;34m\u001b[0m\u001b[0m\n\u001b[0m\u001b[1;32m    230\u001b[0m \u001b[0;34m\u001b[0m\u001b[0m\n\u001b[1;32m    231\u001b[0m \u001b[0;32mclass\u001b[0m \u001b[0mSeedStep\u001b[0m\u001b[0;34m(\u001b[0m\u001b[0mSearchStep\u001b[0m\u001b[0;34m)\u001b[0m\u001b[0;34m:\u001b[0m\u001b[0;34m\u001b[0m\u001b[0;34m\u001b[0m\u001b[0m\n",
      "\u001b[0;32m~/projects/Opfi/src/gene_finder/steps.py\u001b[0m in \u001b[0;36mrun\u001b[0;34m(self, orfs)\u001b[0m\n\u001b[1;32m     43\u001b[0m         \u001b[0mblast_out\u001b[0m \u001b[0;34m=\u001b[0m \u001b[0mos\u001b[0m\u001b[0;34m.\u001b[0m\u001b[0mpath\u001b[0m\u001b[0;34m.\u001b[0m\u001b[0mjoin\u001b[0m\u001b[0;34m(\u001b[0m\u001b[0mself\u001b[0m\u001b[0;34m.\u001b[0m\u001b[0mtmp_dir\u001b[0m\u001b[0;34m.\u001b[0m\u001b[0mname\u001b[0m\u001b[0;34m,\u001b[0m \u001b[0;34m\"blast_out.tsv\"\u001b[0m\u001b[0;34m)\u001b[0m\u001b[0;34m\u001b[0m\u001b[0;34m\u001b[0m\u001b[0m\n\u001b[1;32m     44\u001b[0m         \u001b[0mcmd\u001b[0m \u001b[0;34m=\u001b[0m \u001b[0mself\u001b[0m\u001b[0;34m.\u001b[0m\u001b[0mconstruct_cmd\u001b[0m\u001b[0;34m(\u001b[0m\u001b[0morfs\u001b[0m\u001b[0;34m,\u001b[0m \u001b[0mblast_out\u001b[0m\u001b[0;34m)\u001b[0m\u001b[0;34m\u001b[0m\u001b[0;34m\u001b[0m\u001b[0m\n\u001b[0;32m---> 45\u001b[0;31m         \u001b[0msubprocess\u001b[0m\u001b[0;34m.\u001b[0m\u001b[0mrun\u001b[0m\u001b[0;34m(\u001b[0m\u001b[0mcmd\u001b[0m\u001b[0;34m,\u001b[0m \u001b[0mcheck\u001b[0m\u001b[0;34m=\u001b[0m\u001b[0;32mTrue\u001b[0m\u001b[0;34m)\u001b[0m\u001b[0;34m\u001b[0m\u001b[0;34m\u001b[0m\u001b[0m\n\u001b[0m\u001b[1;32m     46\u001b[0m         \u001b[0mhits\u001b[0m \u001b[0;34m=\u001b[0m \u001b[0mparse_search_output\u001b[0m\u001b[0;34m(\u001b[0m\u001b[0mblast_out\u001b[0m\u001b[0;34m,\u001b[0m \u001b[0mself\u001b[0m\u001b[0;34m.\u001b[0m\u001b[0mstep_id\u001b[0m\u001b[0;34m,\u001b[0m \u001b[0;34m\"blast\"\u001b[0m\u001b[0;34m,\u001b[0m \u001b[0mself\u001b[0m\u001b[0;34m.\u001b[0m\u001b[0mparse_descriptions\u001b[0m\u001b[0;34m)\u001b[0m\u001b[0;34m\u001b[0m\u001b[0;34m\u001b[0m\u001b[0m\n\u001b[1;32m     47\u001b[0m         \u001b[0;32mreturn\u001b[0m \u001b[0mhits\u001b[0m\u001b[0;34m\u001b[0m\u001b[0;34m\u001b[0m\u001b[0m\n",
      "\u001b[0;32m/usr/lib/python3.8/subprocess.py\u001b[0m in \u001b[0;36mrun\u001b[0;34m(input, capture_output, timeout, check, *popenargs, **kwargs)\u001b[0m\n\u001b[1;32m    487\u001b[0m         \u001b[0mkwargs\u001b[0m\u001b[0;34m[\u001b[0m\u001b[0;34m'stderr'\u001b[0m\u001b[0;34m]\u001b[0m \u001b[0;34m=\u001b[0m \u001b[0mPIPE\u001b[0m\u001b[0;34m\u001b[0m\u001b[0;34m\u001b[0m\u001b[0m\n\u001b[1;32m    488\u001b[0m \u001b[0;34m\u001b[0m\u001b[0m\n\u001b[0;32m--> 489\u001b[0;31m     \u001b[0;32mwith\u001b[0m \u001b[0mPopen\u001b[0m\u001b[0;34m(\u001b[0m\u001b[0;34m*\u001b[0m\u001b[0mpopenargs\u001b[0m\u001b[0;34m,\u001b[0m \u001b[0;34m**\u001b[0m\u001b[0mkwargs\u001b[0m\u001b[0;34m)\u001b[0m \u001b[0;32mas\u001b[0m \u001b[0mprocess\u001b[0m\u001b[0;34m:\u001b[0m\u001b[0;34m\u001b[0m\u001b[0;34m\u001b[0m\u001b[0m\n\u001b[0m\u001b[1;32m    490\u001b[0m         \u001b[0;32mtry\u001b[0m\u001b[0;34m:\u001b[0m\u001b[0;34m\u001b[0m\u001b[0;34m\u001b[0m\u001b[0m\n\u001b[1;32m    491\u001b[0m             \u001b[0mstdout\u001b[0m\u001b[0;34m,\u001b[0m \u001b[0mstderr\u001b[0m \u001b[0;34m=\u001b[0m \u001b[0mprocess\u001b[0m\u001b[0;34m.\u001b[0m\u001b[0mcommunicate\u001b[0m\u001b[0;34m(\u001b[0m\u001b[0minput\u001b[0m\u001b[0;34m,\u001b[0m \u001b[0mtimeout\u001b[0m\u001b[0;34m=\u001b[0m\u001b[0mtimeout\u001b[0m\u001b[0;34m)\u001b[0m\u001b[0;34m\u001b[0m\u001b[0;34m\u001b[0m\u001b[0m\n",
      "\u001b[0;32m/usr/lib/python3.8/subprocess.py\u001b[0m in \u001b[0;36m__init__\u001b[0;34m(self, args, bufsize, executable, stdin, stdout, stderr, preexec_fn, close_fds, shell, cwd, env, universal_newlines, startupinfo, creationflags, restore_signals, start_new_session, pass_fds, encoding, errors, text)\u001b[0m\n\u001b[1;32m    852\u001b[0m                             encoding=encoding, errors=errors)\n\u001b[1;32m    853\u001b[0m \u001b[0;34m\u001b[0m\u001b[0m\n\u001b[0;32m--> 854\u001b[0;31m             self._execute_child(args, executable, preexec_fn, close_fds,\n\u001b[0m\u001b[1;32m    855\u001b[0m                                 \u001b[0mpass_fds\u001b[0m\u001b[0;34m,\u001b[0m \u001b[0mcwd\u001b[0m\u001b[0;34m,\u001b[0m \u001b[0menv\u001b[0m\u001b[0;34m,\u001b[0m\u001b[0;34m\u001b[0m\u001b[0;34m\u001b[0m\u001b[0m\n\u001b[1;32m    856\u001b[0m                                 \u001b[0mstartupinfo\u001b[0m\u001b[0;34m,\u001b[0m \u001b[0mcreationflags\u001b[0m\u001b[0;34m,\u001b[0m \u001b[0mshell\u001b[0m\u001b[0;34m,\u001b[0m\u001b[0;34m\u001b[0m\u001b[0;34m\u001b[0m\u001b[0m\n",
      "\u001b[0;32m/usr/lib/python3.8/subprocess.py\u001b[0m in \u001b[0;36m_execute_child\u001b[0;34m(self, args, executable, preexec_fn, close_fds, pass_fds, cwd, env, startupinfo, creationflags, shell, p2cread, p2cwrite, c2pread, c2pwrite, errread, errwrite, restore_signals, start_new_session)\u001b[0m\n\u001b[1;32m   1700\u001b[0m                     \u001b[0;32mif\u001b[0m \u001b[0merrno_num\u001b[0m \u001b[0;34m!=\u001b[0m \u001b[0;36m0\u001b[0m\u001b[0;34m:\u001b[0m\u001b[0;34m\u001b[0m\u001b[0;34m\u001b[0m\u001b[0m\n\u001b[1;32m   1701\u001b[0m                         \u001b[0merr_msg\u001b[0m \u001b[0;34m=\u001b[0m \u001b[0mos\u001b[0m\u001b[0;34m.\u001b[0m\u001b[0mstrerror\u001b[0m\u001b[0;34m(\u001b[0m\u001b[0merrno_num\u001b[0m\u001b[0;34m)\u001b[0m\u001b[0;34m\u001b[0m\u001b[0;34m\u001b[0m\u001b[0m\n\u001b[0;32m-> 1702\u001b[0;31m                     \u001b[0;32mraise\u001b[0m \u001b[0mchild_exception_type\u001b[0m\u001b[0;34m(\u001b[0m\u001b[0merrno_num\u001b[0m\u001b[0;34m,\u001b[0m \u001b[0merr_msg\u001b[0m\u001b[0;34m,\u001b[0m \u001b[0merr_filename\u001b[0m\u001b[0;34m)\u001b[0m\u001b[0;34m\u001b[0m\u001b[0;34m\u001b[0m\u001b[0m\n\u001b[0m\u001b[1;32m   1703\u001b[0m                 \u001b[0;32mraise\u001b[0m \u001b[0mchild_exception_type\u001b[0m\u001b[0;34m(\u001b[0m\u001b[0merr_msg\u001b[0m\u001b[0;34m)\u001b[0m\u001b[0;34m\u001b[0m\u001b[0;34m\u001b[0m\u001b[0m\n\u001b[1;32m   1704\u001b[0m \u001b[0;34m\u001b[0m\u001b[0m\n",
      "\u001b[0;31mFileNotFoundError\u001b[0m: [Errno 2] No such file or directory: 'blastp'"
     ]
    }
   ],
   "source": [
    "from gene_finder.pipeline import Pipeline\n",
    "import os\n",
    "\n",
    "genomic_data = \"data/GCF_000024045.1_ASM2404v1_genomic.fna.gz\"\n",
    "output_directory = \"example_1_output\"\n",
    "\n",
    "p = Pipeline()\n",
    "p.add_seed_step(db=\"blastdb/cas1_db\", name=\"cas1\", e_val=0.001, blast_type=\"PROT\", num_threads=1)\n",
    "p.add_filter_step(db=\"blastdb/cas_all_but_1_db\", name=\"cas_all\", e_val=0.001, blast_type=\"PROT\", num_threads=1)\n",
    "p.add_crispr_step()\n",
    "\n",
    "# use the input filename as the job id\n",
    "# results will be written to the file <job id>_results.csv\n",
    "job_id = os.path.basename(genomic_data)\n",
    "results = p.run(job_id=job_id, data=genomic_data, output_directory=output_directory, min_prot_len=90, span=10000, gzip=True)"
   ]
  },
  {
   "cell_type": "markdown",
   "id": "3d06c762-8558-46b3-8df0-ab516481197e",
   "metadata": {},
   "source": [
    "First, we initialize a `Pipeline` object. Internally, this keeps a master list of all search parameters, and also keeps track of the systems that meet initial search criteria. Next, we add three search steps to the pipeline:\n",
    "\n",
    "1. `add_seed_step` Use BLAST to search the input genome against a database of cas1 sequences. Regions around putative cas1 hits become the intial candidates, and the rest of the genome is ignored.\n",
    "2. `add_filter_step` Search candidate regions against remaining cas sequences. Candidates without at least one additional putative cas gene are also discarded. \n",
    "3. `add_crispr_step` Use PILER-CR to look for CRISPR repeat sequences in any remaining candidate loci.  \n",
    "\n",
    "Finally, we run the pipeline, executing steps in the order they we added. `min_prot_len` sets the minimum length (in amino acid residues) of hits to keep. `span` is the region directly up- or downstream of initial hits. So, each candidate system will be about 20 kbp in length. Results are written to a single CSV file (you can read more about the output format [here](ZZZ output format page in docs)). Final candidate loci contain at least one putative cas1 gene and one additional cas gene. As we will see, this relatively permissive criteria captures some non-CRISPR-cas loci. Opfi has additional modules for reducing unlikely systems."
   ]
  },
  {
   "cell_type": "markdown",
   "id": "551c074c-401a-46ad-bb6d-b8f37962f9de",
   "metadata": {},
   "source": [
    "**3. Visualize annotated CRISPR-cas gene clusters using Opfi's Operon Analyzer module**"
   ]
  },
  {
   "cell_type": "markdown",
   "id": "060cedac-8d5f-4246-b71f-5d41db806bda",
   "metadata": {},
   "source": [
    "It is sometimes useful to visualize candidate systems, especially during the exploratory phase of a genomics survey. Opfi provides a few functions for visualizing candidate systems as gene diagrams. We'll use these to visualize the CRISPR-cas gene clusters in R. orientalis:"
   ]
  },
  {
   "cell_type": "code",
   "execution_count": 19,
   "id": "efe8723a-6110-4cf8-820a-2b48c3611c5c",
   "metadata": {},
   "outputs": [],
   "source": [
    "import csv\n",
    "import sys\n",
    "from operon_analyzer import load, visualize\n",
    "\n",
    "feature_colors = { \"cas1\": \"lightblue\",\n",
    "                    \"cas2\": \"seagreen\",\n",
    "                    \"cas3\": \"gold\",\n",
    "                    \"cas4\": \"springgreen\",\n",
    "                    \"cas5\": \"darkred\",\n",
    "                    \"cas6\": \"thistle\",\n",
    "                    \"cas7\": \"coral\",\n",
    "                    \"cas8\": \"red\",\n",
    "                    \"cas9\": \"palegreen\",\n",
    "                    \"cas10\": \"yellow\",\n",
    "                    \"cas11\": \"tan\",\n",
    "                    \"cas12\": \"orange\",\n",
    "                    \"cas13\": \"saddlebrown\",\n",
    "                    \"casphi\": \"olive\",\n",
    "                    \"CRISPR array\": \"purple\"\n",
    "                    }\n",
    "\n",
    "# read in the output from Gene Finder and create a gene diagram for each cluster (operon)\n",
    "with open(\"example_1_output/GCF_000024045.1_ASM2404v1_genomic.fna.gz_results.csv\", \"r\") as operon_data:\n",
    "    operons = load.load_operons(operon_data)\n",
    "    visualize.plot_operons(operons=operons, output_directory=\"example_1_output\", feature_colors=FEATURE_COLORS, nucl_per_line=25000)"
   ]
  },
  {
   "cell_type": "markdown",
   "id": "eecd475d-ca32-4258-be8f-ae8bdb118b40",
   "metadata": {},
   "source": [
    "We successfully identified the two CRISPR-cas systems in R. orientalis. We also found some systems that don't look like CRISPR-cas operons. Since we used a relatively permissive e-value threshhold of 0.001 when running BLAST, Opfi retained regions with very low sequence similarity to true CRISPR-cas genes. In fact, these regions are likely not CRISPR-cas loci at all. Using a lower e-value would likely eliminate these \"false positive\" systems, but Opfi also has additional functions for filtering out unlikely candidates _after_ the intial BLAST search. \n",
    "\n",
    "In general, we have found that using permissive BLAST parameters intially, and then filtering or eliminating candidates later, is the most effective way to search for novel gene clusters in large amounts of genomic/metagenomic data. In this toy example, we could re-run BLAST many times without significant cost. But on a more realistic dataset, needing to re-do the computationally expensive homology search could severely detrail a project. It is better to cast a wide net first and then narrow results later."
   ]
  },
  {
   "cell_type": "markdown",
   "id": "e393aba1-e216-4cc9-b4eb-bf2aa5ceb262",
   "metadata": {},
   "source": [
    "Finally, clean up the temporary directories, if desired:"
   ]
  },
  {
   "cell_type": "code",
   "execution_count": 1,
   "id": "e0578c61-bb43-40c6-ad12-63a6cec39255",
   "metadata": {},
   "outputs": [],
   "source": [
    "! rm -r example_1_output blastdb"
   ]
  },
  {
   "cell_type": "markdown",
   "id": "71452ddf-b5ad-4434-ae7c-8072f9722724",
   "metadata": {},
   "source": [
    "## Example 2: Filter CRISPR-cas systems according to genomic composition"
   ]
  },
  {
   "cell_type": "code",
   "execution_count": 68,
   "id": "973bbf87-4fd3-42cd-bfac-01d1b0fa73a6",
   "metadata": {},
   "outputs": [],
   "source": [
    "! mkdir example_2_output"
   ]
  },
  {
   "cell_type": "code",
   "execution_count": 69,
   "id": "c46e66f2-65d4-44c8-b223-816c79e47411",
   "metadata": {
    "tags": []
   },
   "outputs": [],
   "source": [
    "from operon_analyzer import analyze, rules\n",
    "\n",
    "\n",
    "fs = rules.FilterSet().pick_overlapping_features_by_bit_score(0.9)\n",
    "cas_types = [\"I\", \"II\", \"III\", \"V\"]\n",
    "\n",
    "rulesets = []\n",
    "# type I rules\n",
    "rulesets.append(rules.RuleSet().contains_group(feature_names = [\"cas5\", \"cas7\"], max_gap_distance_bp = 1000, require_same_orientation = True) \\\n",
    "                               .require(\"cas3\"))\n",
    "# type II rules\n",
    "rulesets.append(rules.RuleSet().contains_at_least_n_features(feature_names = [\"cas1\", \"cas2\", \"cas9\"], feature_count = 3) \\\n",
    "                               .minimum_size(\"cas9\", 3000))\n",
    "# type III rules\n",
    "rulesets.append(rules.RuleSet().contains_group(feature_names = [\"cas5\", \"cas7\"], max_gap_distance_bp = 1000, require_same_orientation = True) \\\n",
    "                               .require(\"cas10\"))\n",
    "# type V rules\n",
    "rulesets.append(rules.RuleSet().contains_at_least_n_features(feature_names = [\"cas1\", \"cas2\", \"cas12\"], feature_count = 3))\n",
    "\n",
    "for rs, cas_type in zip(rulesets, cas_types):\n",
    "    with open(\"data/refseq_fusobacteria.csv\", \"r\") as input_csv:\n",
    "        with open(f\"example_2_output/refseq_fuso_filtered_type{cas_type}.csv\", \"w\") as output_csv:\n",
    "            analyze.evaluate_rules_and_reserialize(input_csv, rs, fs, output_csv)"
   ]
  },
  {
   "cell_type": "code",
   "execution_count": 70,
   "id": "15e2e18b-1360-4b6e-97ad-c673cc8450c7",
   "metadata": {},
   "outputs": [],
   "source": [
    "import csv\n",
    "import sys\n",
    "from operon_analyzer import load, visualize\n",
    "\n",
    "feature_colors = { \"cas1\": \"lightblue\",\n",
    "                    \"cas2\": \"seagreen\",\n",
    "                    \"cas3\": \"gold\",\n",
    "                    \"cas4\": \"springgreen\",\n",
    "                    \"cas5\": \"darkred\",\n",
    "                    \"cas6\": \"thistle\",\n",
    "                    \"cas7\": \"coral\",\n",
    "                    \"cas8\": \"red\",\n",
    "                    \"cas9\": \"palegreen\",\n",
    "                    \"cas10\": \"yellow\",\n",
    "                    \"cas11\": \"tan\",\n",
    "                    \"cas12\": \"orange\",\n",
    "                    \"cas13\": \"saddlebrown\",\n",
    "                    \"casphi\": \"olive\",\n",
    "                    \"CRISPR array\": \"purple\"\n",
    "                    }\n",
    "\n",
    "# read in the output from Gene Finder and create a gene diagram for each cluster (operon)\n",
    "with open(\"example_2_output/refseq_fuso_filtered_typeV.csv\", \"r\") as operon_data:\n",
    "    operons = load.load_operons(operon_data)\n",
    "    visualize.plot_operons(operons=operons, output_directory=\"example_2_output\", feature_colors=feature_colors, nucl_per_line=25000)"
   ]
  },
  {
   "cell_type": "code",
   "execution_count": 2,
   "id": "2979ae0d-6eed-4a21-bcfe-3b3c2acc8986",
   "metadata": {},
   "outputs": [],
   "source": [
    "! rm -r example_2_output"
   ]
  },
  {
   "cell_type": "code",
   "execution_count": null,
   "id": "e60f5aad-83b7-48ec-a8ae-0a00e5498bc3",
   "metadata": {},
   "outputs": [],
   "source": []
  }
 ],
 "metadata": {
  "kernelspec": {
   "display_name": "Python 3",
   "language": "python",
   "name": "python3"
  },
  "language_info": {
   "codemirror_mode": {
    "name": "ipython",
    "version": 3
   },
   "file_extension": ".py",
   "mimetype": "text/x-python",
   "name": "python",
   "nbconvert_exporter": "python",
   "pygments_lexer": "ipython3",
   "version": "3.8.5"
  }
 },
 "nbformat": 4,
 "nbformat_minor": 5
}
